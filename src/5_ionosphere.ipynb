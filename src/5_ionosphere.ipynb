{
 "cells": [
  {
   "cell_type": "markdown",
   "metadata": {},
   "source": [
    "电离层校正的东西不是完全没写，只是不算完善。"
   ]
  },
  {
   "cell_type": "code",
   "execution_count": 1,
   "metadata": {},
   "outputs": [],
   "source": [
    "import sys\n",
    "sys.path.append(\"..\")\n",
    "import os\n",
    "os.chdir(\"..\")\n",
    "from netCDF4 import Dataset\n",
    "import numpy as np\n",
    "from functions.image import wgs2ecs, ecs2wgs\n",
    "from functions.trans import cos_vectors\n",
    "\n",
    "\n",
    "class Ion(object):\n",
    "    def __init__(self, path) -> None:\n",
    "        data = Dataset(path)\n",
    "        self.data = np.array(data['tecmap'])\n",
    "\n",
    "    def find(self, sod, lon, lat):\n",
    "        i = np.int32(sod // 900)\n",
    "        j = np.int32(90 - lat)\n",
    "        k = np.int32(lon + 180)\n",
    "        return self.data[i, j, k]\n",
    "\n",
    "    def cal_delay(self, sod, sp, lon, lat, h, f):\n",
    "        height = 450e3\n",
    "        tp = wgs2ecs(lon, lat, h)\n",
    "        cos_zenith = cos_vectors(tp, sp - tp)\n",
    "        length = height / cos_zenith\n",
    "        dp = sp - tp\n",
    "        pierces = dp * length / np.linalg.norm(dp, axis=0) + tp\n",
    "\n",
    "        plon, plat, _ = ecs2wgs(pierces[0], pierces[1], pierces[2])\n",
    "        tec = self.find(sod, plon, plat)\n",
    "        return 40.3e16 * tec / (f**2*cos_vectors(pierces, sp-wgs2ecs(lon, lat, h)))\n"
   ]
  }
 ],
 "metadata": {
  "kernelspec": {
   "display_name": "pyVenv",
   "language": "python",
   "name": "python3"
  },
  "language_info": {
   "codemirror_mode": {
    "name": "ipython",
    "version": 3
   },
   "file_extension": ".py",
   "mimetype": "text/x-python",
   "name": "python",
   "nbconvert_exporter": "python",
   "pygments_lexer": "ipython3",
   "version": "3.12.6"
  }
 },
 "nbformat": 4,
 "nbformat_minor": 2
}
